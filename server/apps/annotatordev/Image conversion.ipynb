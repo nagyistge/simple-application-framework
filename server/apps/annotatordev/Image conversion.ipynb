{
 "metadata": {
  "name": ""
 },
 "nbformat": 3,
 "nbformat_minor": 0,
 "worksheets": [
  {
   "cells": [
    {
     "cell_type": "code",
     "collapsed": false,
     "input": [
      "#Generates a list of all images in rev2, converts to jpg, and places in rev3"
     ],
     "language": "python",
     "metadata": {},
     "outputs": [],
     "prompt_number": 12
    },
    {
     "cell_type": "code",
     "collapsed": false,
     "input": [
      "import os, glob, sys, shutil"
     ],
     "language": "python",
     "metadata": {},
     "outputs": [],
     "prompt_number": 13
    },
    {
     "cell_type": "code",
     "collapsed": false,
     "input": [
      "!ls"
     ],
     "language": "python",
     "metadata": {},
     "outputs": [
      {
       "output_type": "stream",
       "stream": "stdout",
       "text": [
        "Image conversion.ipynb requirements.txt       tasks.py\r\n",
        "app.py                 \u001b[1m\u001b[36mstatic\u001b[m\u001b[m                 tasks.pyc\r\n",
        "nginx.conf             supervisor.conf        \u001b[1m\u001b[36mtemplates\u001b[m\u001b[m\r\n"
       ]
      }
     ],
     "prompt_number": 14
    },
    {
     "cell_type": "code",
     "collapsed": false,
     "input": [
      "image_path = 'static/rev2/'"
     ],
     "language": "python",
     "metadata": {},
     "outputs": [],
     "prompt_number": 15
    },
    {
     "cell_type": "code",
     "collapsed": false,
     "input": [
      "files = []\n",
      "for root, dirnames, filenames in os.walk(image_path):\n",
      "    files.extend(glob.glob(root + \"/*.jpg\"))\n",
      "    files.extend(glob.glob(root + \"/*.png\"))\n",
      "    files.extend(glob.glob(root + \"/*.tif\"))    "
     ],
     "language": "python",
     "metadata": {},
     "outputs": [],
     "prompt_number": 19
    },
    {
     "cell_type": "code",
     "collapsed": false,
     "input": [
      "len(files)"
     ],
     "language": "python",
     "metadata": {},
     "outputs": [
      {
       "metadata": {},
       "output_type": "pyout",
       "prompt_number": 20,
       "text": [
        "91"
       ]
      }
     ],
     "prompt_number": 20
    },
    {
     "cell_type": "code",
     "collapsed": false,
     "input": [
      "for f in files:\n",
      "    \n",
      "    infile = f\n",
      "    outfile = f.replace('rev2', 'rev3').replace('png', 'jpg').replace('tif', 'jpg')\n",
      "    outdir = os.path.dirname(outfile)\n",
      "    \n",
      "    if not os.path.exists(outdir):\n",
      "        os.makedirs(outdir)\n",
      "    \n",
      "    cmdstr = '/usr/local/bin/convert ./%s  -gravity center -resize 300x200 -extent 300x200 -background white ./%s' % (infile, outfile)\n",
      "    pipe = os.popen(cmdstr)\n",
      "    for p in pipe:\n",
      "        print p\n",
      "    \n"
     ],
     "language": "python",
     "metadata": {},
     "outputs": [],
     "prompt_number": 21
    },
    {
     "cell_type": "code",
     "collapsed": false,
     "input": [
      "\n",
      "dest_path = 'static/rev3/'\n",
      "converted_files = []\n",
      "for root, dirnames, filenames in os.walk(dest_path):\n",
      "    converted_files.extend(glob.glob(root + \"/*.jpg\"))\n",
      "    converted_files.extend(glob.glob(root + \"/*.png\"))\n",
      "    converted_files.extend(glob.glob(root + \"/*.tif\"))    \n",
      "    \n",
      "print len(converted_files)"
     ],
     "language": "python",
     "metadata": {},
     "outputs": [
      {
       "output_type": "stream",
       "stream": "stdout",
       "text": [
        "91\n"
       ]
      }
     ],
     "prompt_number": 22
    },
    {
     "cell_type": "code",
     "collapsed": false,
     "input": [],
     "language": "python",
     "metadata": {},
     "outputs": []
    }
   ],
   "metadata": {}
  }
 ]
}